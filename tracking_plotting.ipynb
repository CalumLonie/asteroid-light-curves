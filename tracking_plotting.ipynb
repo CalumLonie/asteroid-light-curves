{
 "cells": [
  {
   "cell_type": "code",
   "execution_count": null,
   "metadata": {},
   "outputs": [],
   "source": [
    "from photutils import DAOStarFinder, CircularAperture\n",
    "from astropy.io import fits as fits\n",
    "from astropy.stats import mad_std\n",
    "import numpy as np\n",
    "import matplotlib.pyplot as plt"
   ]
  },
  {
   "cell_type": "code",
   "execution_count": null,
   "metadata": {},
   "outputs": [],
   "source": [
    "frames_in_set = 10\n",
    "object_sets = 12\n",
    "star_sets = 6\n",
    "dark_sets = 7\n",
    "\n",
    "object_frames = object_sets * frames_in_set\n",
    "star_frames = star_sets * frames_in_set\n",
    "dark_frames = dark_sets * frames_in_set\n",
    "flat_frames = 40\n",
    "\n",
    "x = 1039\n",
    "y = 1391\n",
    "\n",
    "path_raw = 'C:/Users/Calum/Documents/My Documents/354_Eleonora_Flyby2/Actual_Data/Initial_Frames/'\n",
    "path_clean = 'C:/Users/Calum/Documents/My Documents/354_Eleonora_Flyby2/Actual_Data/Cleaned_Frames/'\n",
    "path_comb = 'C:/Users/Calum/Documents/My Documents/354_Eleonora_Flyby2/Actual_Data/Combined_Frames/'"
   ]
  },
  {
   "cell_type": "code",
   "execution_count": null,
   "metadata": {},
   "outputs": [],
   "source": [
    "time = []\n",
    "\n",
    "for j in range(object_sets):\n",
    "    with fits.open(path_raw + 'object_' + str((j+1)*10-9) + '.fit') as hdul:\n",
    "        hours = 3600 * int(hdul[0].header['DATE-OBS'][11:13])\n",
    "        mins = 60 * int(hdul[0].header['DATE-OBS'][14:16])\n",
    "        secs = int(hdul[0].header['DATE-OBS'][17:19])\n",
    "        time_start = hours + mins + secs\n",
    "        \n",
    "    with fits.open(path_raw + 'object_' + str((j+1)*10-1) + '.fit') as hdul:\n",
    "        hours = 3600 * int(hdul[0].header['DATE-OBS'][11:13])\n",
    "        mins = 60 * int(hdul[0].header['DATE-OBS'][14:16])\n",
    "        secs = int(hdul[0].header['DATE-OBS'][17:19])\n",
    "        time_end = hours + mins + secs\n",
    "        \n",
    "    time.append((time_start + time_end) / 2)\n",
    "    \n",
    "time_begin = time[0]\n",
    "for j in range(object_sets):\n",
    "    time[j] -= time_begin"
   ]
  },
  {
   "cell_type": "code",
   "execution_count": null,
   "metadata": {},
   "outputs": [],
   "source": [
    "ast_x = 386.61\n",
    "ast_y = 589.04\n",
    "coord_ast = np.sqrt(ast_x**2 + ast_y**2)\n",
    "brightness_ast = []\n",
    "\n",
    "for j in range(object_sets):\n",
    "    with fits.open(path_comb + 'object' + '_' + str(j+1) + '.fit') as hdul:\n",
    "        data = hdul[0].data\n",
    "        \n",
    "    FWHM = 10\n",
    "    std = mad_std(data)\n",
    "    daofind = DAOStarFinder(fwhm = FWHM, threshold = 22*std)\n",
    "    sources = daofind(data)\n",
    "    \n",
    "    diff = 1000000\n",
    "    if j == 6:\n",
    "        ast_x = 345.91\n",
    "        ast_y = 281.95\n",
    "        coord_ast = coord_ast = np.sqrt(ast_x**2 + ast_y**2)\n",
    "    for k in range(sources['flux'].size):\n",
    "        coord = np.sqrt(sources['xcentroid'][k]**2 + sources['ycentroid'][k]**2)\n",
    "        if abs(coord_ast - coord) < diff: \n",
    "            diff = abs(coord_ast - coord)\n",
    "            index = k\n",
    "            \n",
    "    ast_x = sources['xcentroid'][index]\n",
    "    ast_y = sources['ycentroid'][index]\n",
    "    coord_ast = np.sqrt(ast_x**2 + ast_y**2)\n",
    "    brightness_ast.append(sources['flux'][index])"
   ]
  },
  {
   "cell_type": "code",
   "execution_count": null,
   "metadata": {},
   "outputs": [],
   "source": [
    "brightness_star = []\n",
    "\n",
    "for j in range(star_sets):\n",
    "    with fits.open(path_comb + 'star' + '_' + str(j+1) + '.fit') as hdul:\n",
    "        data = hdul[0].data\n",
    "        \n",
    "    FWHM = 10\n",
    "    std = mad_std(data)\n",
    "    daofind = DAOStarFinder(fwhm = FWHM, threshold = 22*std)\n",
    "    sources = daofind(data)\n",
    "    max_flux = max(sources['flux'])\n",
    "    \n",
    "    diff = 1000000\n",
    "    for k in range(sources['flux'].size):\n",
    "        if abs(sources['flux'][k] - max_flux) < diff: \n",
    "            diff = abs(sources['flux'][k] - max_flux)\n",
    "            index = k\n",
    "            \n",
    "    brightness_star.append(sources['flux'][index])"
   ]
  },
  {
   "cell_type": "code",
   "execution_count": null,
   "metadata": {},
   "outputs": [],
   "source": [
    "comp_factor = []\n",
    "for element in brightness_star:\n",
    "    comp_factor.append(element/brightness_star[0])\n",
    "\n",
    "brightness_corr = []\n",
    "for j in range(star_sets):\n",
    "    brightness_corr.append(brightness_ast[2*j]/comp_factor[j])\n",
    "    brightness_corr.append(brightness_ast[2*j+1]/comp_factor[j])"
   ]
  },
  {
   "cell_type": "code",
   "execution_count": null,
   "metadata": {},
   "outputs": [],
   "source": [
    "plt.subplot(211)\n",
    "plt.plot(time, brightness_ast)\n",
    "plt.title('Partial light curves of 354 Eleonora')\n",
    "\n",
    "plt.subplot(212)\n",
    "plt.plot(time, brightness_corr)"
   ]
  }
 ],
 "metadata": {
  "kernelspec": {
   "display_name": "Python 3",
   "language": "python",
   "name": "python3"
  },
  "language_info": {
   "codemirror_mode": {
    "name": "ipython",
    "version": 3
   },
   "file_extension": ".py",
   "mimetype": "text/x-python",
   "name": "python",
   "nbconvert_exporter": "python",
   "pygments_lexer": "ipython3",
   "version": "3.7.6"
  }
 },
 "nbformat": 4,
 "nbformat_minor": 4
}
