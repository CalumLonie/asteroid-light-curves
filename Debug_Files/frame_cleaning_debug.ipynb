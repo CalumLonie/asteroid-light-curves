{
 "cells": [
  {
   "cell_type": "code",
   "execution_count": 1,
   "metadata": {},
   "outputs": [
    {
     "ename": "ModuleNotFoundError",
     "evalue": "No module named 'photutils'",
     "output_type": "error",
     "traceback": [
      "\u001b[1;31m---------------------------------------------------------------------------\u001b[0m",
      "\u001b[1;31mModuleNotFoundError\u001b[0m                       Traceback (most recent call last)",
      "\u001b[1;32m<ipython-input-1-a7377581ce63>\u001b[0m in \u001b[0;36m<module>\u001b[1;34m\u001b[0m\n\u001b[0;32m      2\u001b[0m \u001b[1;32mimport\u001b[0m \u001b[0mmatplotlib\u001b[0m\u001b[1;33m.\u001b[0m\u001b[0mpyplot\u001b[0m \u001b[1;32mas\u001b[0m \u001b[0mplt\u001b[0m\u001b[1;33m\u001b[0m\u001b[1;33m\u001b[0m\u001b[0m\n\u001b[0;32m      3\u001b[0m \u001b[1;32mimport\u001b[0m \u001b[0mnumpy\u001b[0m \u001b[1;32mas\u001b[0m \u001b[0mnp\u001b[0m\u001b[1;33m\u001b[0m\u001b[1;33m\u001b[0m\u001b[0m\n\u001b[1;32m----> 4\u001b[1;33m \u001b[1;32mfrom\u001b[0m \u001b[0mphotutils\u001b[0m \u001b[1;32mimport\u001b[0m \u001b[0mDAOStarFinder\u001b[0m\u001b[1;33m\u001b[0m\u001b[1;33m\u001b[0m\u001b[0m\n\u001b[0m",
      "\u001b[1;31mModuleNotFoundError\u001b[0m: No module named 'photutils'"
     ]
    }
   ],
   "source": [
    "from astropy.io import fits as fits\n",
    "import matplotlib.pyplot as plt\n",
    "import numpy as np\n",
    "from photutils import DAOStarFinder"
   ]
  },
  {
   "cell_type": "code",
   "execution_count": 2,
   "metadata": {},
   "outputs": [],
   "source": [
    "def averaging (path, x, y, type, total_frames):\n",
    "    \n",
    "    comb = np.zeros((x,y))\n",
    "    \n",
    "    for j in range(total_frames):\n",
    "        comb += fits.getdata(path + type + '_' + str(j+1) + '.fit')\n",
    "        \n",
    "    avg = comb/total_frames\n",
    "    \n",
    "    return avg"
   ]
  },
  {
   "cell_type": "code",
   "execution_count": 3,
   "metadata": {},
   "outputs": [],
   "source": [
    "frames_in_set = 10\n",
    "object_sets = 12\n",
    "star_sets = 6\n",
    "dark_sets = 7\n",
    "\n",
    "object_frames = object_sets * frames_in_set\n",
    "star_frames = star_sets * frames_in_set\n",
    "dark_frames = dark_sets * frames_in_set\n",
    "flat_frames = 40\n",
    "\n",
    "x = 1039\n",
    "y = 1391\n",
    "\n",
    "path_raw = 'C:/Users/Calum/Documents/My Documents/354_Eleonora_Flyby2/Initial_Frames/'\n",
    "path_clean = 'C:/Users/Calum/Documents/My Documents/354_Eleonora_Flyby2/Cleaned_Frames/'\n",
    "path_comb = 'C:/Users/Calum/Documents/My Documents/354_Eleonora_Flyby2/Combined_Frames/'"
   ]
  },
  {
   "cell_type": "code",
   "execution_count": 46,
   "metadata": {},
   "outputs": [],
   "source": [
    "# Takes an average of all the dark and flat frames\n",
    "\n",
    "avg_dark = averaging(path_raw, x, y, 'dark', dark_frames)\n",
    "avg_flat = averaging(path_raw, x, y, 'flat', flat_frames)"
   ]
  },
  {
   "cell_type": "code",
   "execution_count": 49,
   "metadata": {},
   "outputs": [
    {
     "name": "stdout",
     "output_type": "stream",
     "text": [
      "Object 10\n",
      "Object 20\n",
      "Object 30\n",
      "Object 40\n",
      "Object 50\n",
      "Object 60\n",
      "Object 70\n",
      "Object 80\n",
      "Object 90\n",
      "Object 100\n",
      "Object 110\n",
      "Object 120\n",
      "Star 10\n",
      "Star 20\n",
      "Star 30\n",
      "Star 40\n",
      "Star 50\n",
      "Star 60\n"
     ]
    }
   ],
   "source": [
    "# Removes the average dark frame from all the asteroid and star frames\n",
    "\n",
    "for j in range(object_frames):\n",
    "    with fits.open(path_raw + 'object' + '_' + str(j+1) + '.fit') as hdul:\n",
    "        data = (hdul[0].data)/1.0\n",
    "        data -= avg_dark\n",
    "        hdul.writeto(path_clean + 'object' + '_' + str(j+1) + '.fit')\n",
    "    if (j+1) % 10 == 0:\n",
    "        print('Object ' + str(j+1))\n",
    "    \n",
    "for j in range(star_frames):\n",
    "    with fits.open(path_raw + 'star' + '_' + str(j+1) + '.fit') as hdul:\n",
    "        data = (hdul[0].data)/1.0\n",
    "        data -= avg_dark\n",
    "        hdul.writeto(path_clean + 'star' + '_' + str(j+1) + '.fit')\n",
    "    if (j+1) % 10 == 0:\n",
    "        print('Star ' + str(j+1))"
   ]
  },
  {
   "cell_type": "code",
   "execution_count": 53,
   "metadata": {},
   "outputs": [],
   "source": [
    "# Group the asteroid and star frames into combinations of 10 frames each\n",
    "\n",
    "for j in range(object_sets):\n",
    "    comb = np.zeros((x,y))\n",
    "    for k in range(frames_in_set):\n",
    "        with fits.open(path_clean + 'object' + '_' + str(j*frames_in_set+k+1) + '.fit') as hdul:\n",
    "            data = hdul[0].data\n",
    "            comb += data\n",
    "    image = comb / frames_in_set\n",
    "    hdu = fits.PrimaryHDU(image)\n",
    "    hdu.writeto(path_comb + 'object' + '_' + str(j+1) + '.fit')\n",
    "    \n",
    "for j in range(star_sets):\n",
    "    comb = np.zeros((x,y))\n",
    "    for k in range(frames_in_set):\n",
    "        with fits.open(path_clean + 'star' + '_' + str(j*frames_in_set+k+1) + '.fit') as hdul:\n",
    "            data = hdul[0].data\n",
    "            comb += data\n",
    "    image = comb / frames_in_set\n",
    "    hdu = fits.PrimaryHDU(image)\n",
    "    hdu.writeto(path_comb + 'star' + '_' + str(j+1) + '.fit')"
   ]
  },
  {
   "cell_type": "code",
   "execution_count": null,
   "metadata": {},
   "outputs": [],
   "source": [
    "# Analyse the combined frames to extract their brightness\n",
    "\n"
   ]
  },
  {
   "cell_type": "code",
   "execution_count": 17,
   "metadata": {},
   "outputs": [
    {
     "name": "stdout",
     "output_type": "stream",
     "text": [
      "[[1287 1386 1324 ... 1368 1520  276]\n",
      " [1453 1440 1369 ... 1322 1458  287]\n",
      " [1433 1581 1396 ... 1360 1381  282]\n",
      " ...\n",
      " [1453 1348 1404 ... 1449 1535  291]\n",
      " [1371 1281 1284 ... 1397 1510  284]\n",
      " [1364 1365 1443 ... 1405 1520  259]]\n",
      "[1287 1386 1324 ... 1368 1520  276]\n",
      "1287\n",
      "1453\n",
      "1440336\n",
      "1391\n"
     ]
    }
   ],
   "source": [
    "data = fits.getdata(path_raw + \"object_1.fit\")\n",
    "print(data)\n",
    "print(data[0])\n",
    "print(data[0,0])\n",
    "print(data[1,0])\n",
    "\n",
    "sum = 0\n",
    "for j in range(x):\n",
    "    sum += data[0,j]\n",
    "    \n",
    "print(sum)\n",
    "print(data[0].size)"
   ]
  },
  {
   "cell_type": "code",
   "execution_count": 43,
   "metadata": {},
   "outputs": [
    {
     "name": "stdout",
     "output_type": "stream",
     "text": [
      "Filename: C:/Users/Calum/Documents/My Documents/354_Eleonora_Flyby2/Initial_Frames/object_1.fit\n",
      "No.    Name      Ver    Type      Cards   Dimensions   Format\n",
      "  0  PRIMARY       1 PrimaryHDU      25   (1391, 1039)   int16 (rescales to uint16)   \n",
      "[[1287 1386 1324 ... 1368 1520  276]\n",
      " [1453 1440 1369 ... 1322 1458  287]\n",
      " [1433 1581 1396 ... 1360 1381  282]\n",
      " ...\n",
      " [1453 1348 1404 ... 1449 1535  291]\n",
      " [1371 1281 1284 ... 1397 1510  284]\n",
      " [1364 1365 1443 ... 1405 1520  259]]\n",
      "(1039, 1391)\n",
      "[[1287. 1386. 1324. ... 1368. 1520.  276.]\n",
      " [1453. 1440. 1369. ... 1322. 1458.  287.]\n",
      " [1433. 1581. 1396. ... 1360. 1381.  282.]\n",
      " ...\n",
      " [1453. 1348. 1404. ... 1449. 1535.  291.]\n",
      " [1371. 1281. 1284. ... 1397. 1510.  284.]\n",
      " [1364. 1365. 1443. ... 1405. 1520.  259.]]\n"
     ]
    }
   ],
   "source": [
    "with fits.open(path_raw + 'object_1.fit') as hdul:\n",
    "    hdul.info()\n",
    "    data = hdul[0].data\n",
    "    print(data)\n",
    "    print(data.shape)\n",
    "    data = data/1.0\n",
    "    print(data)\n",
    "    hdul.writeto('aaaaaaa.fit')"
   ]
  },
  {
   "cell_type": "code",
   "execution_count": 44,
   "metadata": {},
   "outputs": [
    {
     "name": "stdout",
     "output_type": "stream",
     "text": [
      "[[1287 1386 1324 ... 1368 1520  276]\n",
      " [1453 1440 1369 ... 1322 1458  287]\n",
      " [1433 1581 1396 ... 1360 1381  282]\n",
      " ...\n",
      " [1453 1348 1404 ... 1449 1535  291]\n",
      " [1371 1281 1284 ... 1397 1510  284]\n",
      " [1364 1365 1443 ... 1405 1520  259]]\n"
     ]
    }
   ],
   "source": [
    "path2 = 'C:/Users/Calum/Documents/My Documents/354_Eleonora_Flyby2/'\n",
    "with fits.open(path2 + 'aaaaaaa.fit') as hdul:\n",
    "    print(hdul[0].data)"
   ]
  },
  {
   "cell_type": "code",
   "execution_count": 19,
   "metadata": {},
   "outputs": [
    {
     "data": {
      "text/plain": [
       "<matplotlib.colorbar.Colorbar at 0x28b474ab448>"
      ]
     },
     "execution_count": 19,
     "metadata": {},
     "output_type": "execute_result"
    },
    {
     "data": {
      "image/png": "[encoded data removed]",
      "text/plain": [
       "<Figure size 432x288 with 2 Axes>"
      ]
     },
     "metadata": {
      "needs_background": "light"
     },
     "output_type": "display_data"
    }
   ],
   "source": [
    "data = fits.getdata(path_comb + 'object_1.fit')\n",
    "plt.figure()\n",
    "plt.imshow(data, cmap = 'gray')\n",
    "plt.colorbar()"
   ]
  }
 ],
 "metadata": {
  "kernelspec": {
   "display_name": "Python 3",
   "language": "python",
   "name": "python3"
  },
  "language_info": {
   "codemirror_mode": {
    "name": "ipython",
    "version": 3
   },
   "file_extension": ".py",
   "mimetype": "text/x-python",
   "name": "python",
   "nbconvert_exporter": "python",
   "pygments_lexer": "ipython3",
   "version": "3.7.6"
  }
 },
 "nbformat": 4,
 "nbformat_minor": 4
}
