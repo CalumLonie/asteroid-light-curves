{
 "cells": [
  {
   "cell_type": "code",
   "execution_count": 1,
   "metadata": {},
   "outputs": [],
   "source": [
    "from astropy.io import fits as fits\n",
    "import numpy as np"
   ]
  },
  {
   "cell_type": "code",
   "execution_count": 2,
   "metadata": {},
   "outputs": [],
   "source": [
    "def averaging (path, x, y, type, total_frames):\n",
    "    \n",
    "    comb = np.zeros((x,y))\n",
    "    \n",
    "    for j in range(total_frames):\n",
    "        comb += fits.getdata(path + type + '_' + str(j+1) + '.fit')\n",
    "        \n",
    "    avg = comb/total_frames\n",
    "    \n",
    "    return avg"
   ]
  },
  {
   "cell_type": "code",
   "execution_count": 3,
   "metadata": {},
   "outputs": [],
   "source": [
    "frames_in_set = 10\n",
    "object_sets = 40\n",
    "star_sets = 40\n",
    "dark_sets = 11\n",
    "\n",
    "object_frames = object_sets * frames_in_set\n",
    "star_frames = star_sets * frames_in_set\n",
    "dark_frames = dark_sets * frames_in_set\n",
    "\n",
    "x = 1039\n",
    "y = 1391\n",
    "\n",
    "path_raw = 'C:/Users/Calum/Documents/My Documents/354_Eleonora_Flyby2/Simulated_Data/Image_Frames/'\n",
    "path_dark = 'C:/Users/Calum/Documents/My Documents/354_Eleonora_Flyby2/Simulated_Data/Dark_Frames/'\n",
    "path_clean = 'C:/Users/Calum/Documents/My Documents/354_Eleonora_Flyby2/Simulated_Data/Cleaned_Frames/'\n",
    "path_comb = 'C:/Users/Calum/Documents/My Documents/354_Eleonora_Flyby2/Simulated_Data/Combined_Frames/'"
   ]
  },
  {
   "cell_type": "code",
   "execution_count": 4,
   "metadata": {},
   "outputs": [],
   "source": [
    "avg_dark = averaging(path_dark, x, y, 'dark_frame', dark_frames)"
   ]
  },
  {
   "cell_type": "code",
   "execution_count": 5,
   "metadata": {},
   "outputs": [
    {
     "name": "stdout",
     "output_type": "stream",
     "text": [
      "Frame 10\n",
      "Frame 20\n",
      "Frame 30\n",
      "Frame 40\n",
      "Frame 50\n",
      "Frame 60\n",
      "Frame 70\n",
      "Frame 80\n",
      "Frame 90\n",
      "Frame 100\n",
      "Frame 110\n",
      "Frame 120\n",
      "Frame 130\n",
      "Frame 140\n",
      "Frame 150\n",
      "Frame 160\n",
      "Frame 170\n",
      "Frame 180\n",
      "Frame 190\n",
      "Frame 200\n",
      "Frame 210\n",
      "Frame 220\n",
      "Frame 230\n",
      "Frame 240\n",
      "Frame 250\n",
      "Frame 260\n",
      "Frame 270\n",
      "Frame 280\n",
      "Frame 290\n",
      "Frame 300\n",
      "Frame 310\n",
      "Frame 320\n",
      "Frame 330\n",
      "Frame 340\n",
      "Frame 350\n",
      "Frame 360\n",
      "Frame 370\n",
      "Frame 380\n",
      "Frame 390\n",
      "Frame 400\n"
     ]
    }
   ],
   "source": [
    "for j in range(object_frames):\n",
    "    with fits.open(path_raw + 'Pic' + '_' + str(j+1) + '.fit') as hdul:\n",
    "        data = (hdul[0].data)/1.0\n",
    "        data -= avg_dark\n",
    "        hdul.writeto(path_clean + 'frame' + '_' + str(j+1) + '.fit')\n",
    "    if (j+1) % 10 == 0:\n",
    "        print('Frame ' + str(j+1))"
   ]
  },
  {
   "cell_type": "code",
   "execution_count": 6,
   "metadata": {},
   "outputs": [],
   "source": [
    "for j in range(object_sets):\n",
    "    comb = np.zeros((x,y))\n",
    "    for k in range(frames_in_set):\n",
    "        with fits.open(path_clean + 'frame' + '_' + str(j*frames_in_set+k+1) + '.fit') as hdul:\n",
    "            data = hdul[0].data\n",
    "            comb += data\n",
    "    image = comb / frames_in_set\n",
    "    hdu = fits.PrimaryHDU(image)\n",
    "    hdu.writeto(path_comb + 'image' + '_' + str(j+1) + '.fit')"
   ]
  }
 ],
 "metadata": {
  "kernelspec": {
   "display_name": "Python 3",
   "language": "python",
   "name": "python3"
  },
  "language_info": {
   "codemirror_mode": {
    "name": "ipython",
    "version": 3
   },
   "file_extension": ".py",
   "mimetype": "text/x-python",
   "name": "python",
   "nbconvert_exporter": "python",
   "pygments_lexer": "ipython3",
   "version": "3.7.6"
  }
 },
 "nbformat": 4,
 "nbformat_minor": 4
}
