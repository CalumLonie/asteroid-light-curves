{
 "cells": [
  {
   "cell_type": "code",
   "execution_count": null,
   "metadata": {},
   "outputs": [],
   "source": [
    "from astropy.io import fits as fits\n",
    "import numpy as np"
   ]
  },
  {
   "cell_type": "code",
   "execution_count": null,
   "metadata": {},
   "outputs": [],
   "source": [
    "def averaging (path, x, y, type, total_frames):\n",
    "    \n",
    "    comb = np.zeros((x,y))\n",
    "    \n",
    "    for j in range(total_frames):\n",
    "        comb += fits.getdata(path + type + '_' + str(j+1) + '.fit')\n",
    "        \n",
    "    avg = comb/total_frames\n",
    "    \n",
    "    return avg"
   ]
  },
  {
   "cell_type": "code",
   "execution_count": null,
   "metadata": {},
   "outputs": [],
   "source": [
    "frames_in_set = 10\n",
    "object_sets = 12\n",
    "star_sets = 6\n",
    "dark_sets = 7\n",
    "\n",
    "object_frames = object_sets * frames_in_set\n",
    "star_frames = star_sets * frames_in_set\n",
    "dark_frames = dark_sets * frames_in_set\n",
    "\n",
    "x = 1039\n",
    "y = 1391\n",
    "\n",
    "path_raw = 'C:/Users/Calum/Documents/My Documents/354_Eleonora_Flyby2/Actual_Data/Initial_Frames/'\n",
    "path_clean = 'C:/Users/Calum/Documents/My Documents/354_Eleonora_Flyby2/Actual_Data/Cleaned_Frames/'\n",
    "path_comb = 'C:/Users/Calum/Documents/My Documents/354_Eleonora_Flyby2/Actual_Data/Combined_Frames/'"
   ]
  },
  {
   "cell_type": "code",
   "execution_count": null,
   "metadata": {},
   "outputs": [],
   "source": [
    "# Takes an average of all the dark frames\n",
    "avg_dark = averaging(path_raw, x, y, 'dark', dark_frames)"
   ]
  },
  {
   "cell_type": "code",
   "execution_count": null,
   "metadata": {},
   "outputs": [],
   "source": [
    "# Removes the average dark frame from all the asteroid and star frames\n",
    "\n",
    "for j in range(object_frames):\n",
    "    with fits.open(path_raw + 'object' + '_' + str(j+1) + '.fit') as hdul:\n",
    "        data = (hdul[0].data)/1.0\n",
    "        data -= avg_dark\n",
    "        hdul.writeto(path_clean + 'object' + '_' + str(j+1) + '.fit')\n",
    "    if (j+1) % 10 == 0:\n",
    "        print('Object ' + str(j+1))\n",
    "    \n",
    "for j in range(star_frames):\n",
    "    with fits.open(path_raw + 'star' + '_' + str(j+1) + '.fit') as hdul:\n",
    "        data = (hdul[0].data)/1.0\n",
    "        data -= avg_dark\n",
    "        hdul.writeto(path_clean + 'star' + '_' + str(j+1) + '.fit')\n",
    "    if (j+1) % 10 == 0:\n",
    "        print('Star ' + str(j+1))"
   ]
  },
  {
   "cell_type": "code",
   "execution_count": null,
   "metadata": {},
   "outputs": [],
   "source": [
    "# Group the asteroid and star frames into combinations of 10 frames each\n",
    "\n",
    "for j in range(object_sets):\n",
    "    comb = np.zeros((x,y))\n",
    "    for k in range(frames_in_set):\n",
    "        with fits.open(path_clean + 'object' + '_' + str(j*frames_in_set+k+1) + '.fit') as hdul:\n",
    "            data = hdul[0].data\n",
    "            comb += data\n",
    "    image = comb / frames_in_set\n",
    "    hdu = fits.PrimaryHDU(image)\n",
    "    hdu.writeto(path_comb + 'object' + '_' + str(j+1) + '.fit')\n",
    "    \n",
    "for j in range(star_sets):\n",
    "    comb = np.zeros((x,y))\n",
    "    for k in range(frames_in_set):\n",
    "        with fits.open(path_clean + 'star' + '_' + str(j*frames_in_set+k+1) + '.fit') as hdul:\n",
    "            data = hdul[0].data\n",
    "            comb += data\n",
    "    image = comb / frames_in_set\n",
    "    hdu = fits.PrimaryHDU(image)\n",
    "    hdu.writeto(path_comb + 'star' + '_' + str(j+1) + '.fit')"
   ]
  }
 ],
 "metadata": {
  "kernelspec": {
   "display_name": "Python 3",
   "language": "python",
   "name": "python3"
  },
  "language_info": {
   "codemirror_mode": {
    "name": "ipython",
    "version": 3
   },
   "file_extension": ".py",
   "mimetype": "text/x-python",
   "name": "python",
   "nbconvert_exporter": "python",
   "pygments_lexer": "ipython3",
   "version": "3.7.6"
  }
 },
 "nbformat": 4,
 "nbformat_minor": 4
}
