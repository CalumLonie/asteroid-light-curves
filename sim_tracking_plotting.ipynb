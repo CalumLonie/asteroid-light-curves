{
 "cells": [
  {
   "cell_type": "code",
   "execution_count": 1,
   "metadata": {},
   "outputs": [],
   "source": [
    "from photutils import DAOStarFinder, CircularAperture\n",
    "from astropy.io import fits as fits\n",
    "from astropy.stats import mad_std\n",
    "import numpy as np\n",
    "import matplotlib.pyplot as plt"
   ]
  },
  {
   "cell_type": "code",
   "execution_count": 5,
   "metadata": {},
   "outputs": [],
   "source": [
    "frames_in_set = 10\n",
    "object_sets = 40\n",
    "star_sets = 40\n",
    "dark_sets = 11\n",
    "\n",
    "object_frames = object_sets * frames_in_set\n",
    "star_frames = star_sets * frames_in_set\n",
    "dark_frames = dark_sets * frames_in_set\n",
    "\n",
    "x = 1039\n",
    "y = 1391\n",
    "\n",
    "path_raw = 'C:/Users/Calum/Documents/My Documents/354_Eleonora_Flyby2/Simulated_Data/Image_Frames/'\n",
    "path_dark = 'C:/Users/Calum/Documents/My Documents/354_Eleonora_Flyby2/Simulated_Data/Dark_Frames/'\n",
    "path_clean = 'C:/Users/Calum/Documents/My Documents/354_Eleonora_Flyby2/Simulated_Data/Cleaned_Frames/'\n",
    "path_comb = 'C:/Users/Calum/Documents/My Documents/354_Eleonora_Flyby2/Simulated_Data/Combined_Frames/'"
   ]
  },
  {
   "cell_type": "code",
   "execution_count": 3,
   "metadata": {},
   "outputs": [],
   "source": [
    "time = []\n",
    "\n",
    "for j in range(object_sets):\n",
    "    with fits.open(path_raw + 'Pic_' + str((j+1)*10-9) + '.fit') as hdul:\n",
    "        hours = 3600 * int(hdul[0].header['DATE-OBS'][11:13])\n",
    "        mins = 60 * int(hdul[0].header['DATE-OBS'][14:16])\n",
    "        secs = int(hdul[0].header['DATE-OBS'][17:19])\n",
    "        time_start = hours + mins + secs\n",
    "        \n",
    "    with fits.open(path_raw + 'Pic_' + str((j+1)*10-1) + '.fit') as hdul:\n",
    "        hours = 3600 * int(hdul[0].header['DATE-OBS'][11:13])\n",
    "        mins = 60 * int(hdul[0].header['DATE-OBS'][14:16])\n",
    "        secs = int(hdul[0].header['DATE-OBS'][17:19])\n",
    "        time_end = hours + mins + secs\n",
    "        \n",
    "    time.append((time_start + time_end) / 2)\n",
    "    \n",
    "time_begin = time[0]\n",
    "for j in range(object_sets):\n",
    "    time[j] -= time_begin"
   ]
  },
  {
   "cell_type": "code",
   "execution_count": 9,
   "metadata": {},
   "outputs": [],
   "source": [
    "ast_x = 237.06\n",
    "ast_y = 132.99\n",
    "coord_ast = np.sqrt(ast_x**2 + ast_y**2)\n",
    "brightness_ast = []\n",
    "\n",
    "for j in range(object_sets):\n",
    "    with fits.open(path_comb + 'image' + '_' + str(j+1) + '.fit') as hdul:\n",
    "        data = hdul[0].data\n",
    "        \n",
    "    FWHM = 10\n",
    "    std = mad_std(data)\n",
    "    daofind = DAOStarFinder(fwhm = FWHM, threshold = 22*std)\n",
    "    sources = daofind(data)\n",
    "    \n",
    "    diff = 1000000\n",
    "    for k in range(sources['flux'].size):\n",
    "        coord = np.sqrt(sources['xcentroid'][k]**2 + sources['ycentroid'][k]**2)\n",
    "        if abs(coord_ast - coord) < diff: \n",
    "            diff = abs(coord_ast - coord)\n",
    "            index = k\n",
    "            \n",
    "    ast_x = sources['xcentroid'][index]\n",
    "    ast_y = sources['ycentroid'][index]\n",
    "    coord_ast = np.sqrt(ast_x**2 + ast_y**2)\n",
    "    brightness_ast.append(sources['flux'][index])"
   ]
  },
  {
   "cell_type": "code",
   "execution_count": 11,
   "metadata": {},
   "outputs": [
    {
     "data": {
      "text/plain": [
       "Text(0.5, 1.0, 'Light Curve of the simulated asteroid')"
      ]
     },
     "execution_count": 11,
     "metadata": {},
     "output_type": "execute_result"
    },
    {
     "data": {
      "image/png": "[encoded data removed]",
      "text/plain": [
       "<Figure size 432x288 with 1 Axes>"
      ]
     },
     "metadata": {
      "needs_background": "light"
     },
     "output_type": "display_data"
    }
   ],
   "source": [
    "plt.plot(time, brightness_ast)\n",
    "plt.title('Light Curve of the simulated asteroid')"
   ]
  }
 ],
 "metadata": {
  "kernelspec": {
   "display_name": "Python 3",
   "language": "python",
   "name": "python3"
  },
  "language_info": {
   "codemirror_mode": {
    "name": "ipython",
    "version": 3
   },
   "file_extension": ".py",
   "mimetype": "text/x-python",
   "name": "python",
   "nbconvert_exporter": "python",
   "pygments_lexer": "ipython3",
   "version": "3.7.6"
  }
 },
 "nbformat": 4,
 "nbformat_minor": 4
}
